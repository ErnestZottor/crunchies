{
 "cells": [
  {
   "cell_type": "code",
   "execution_count": 1,
   "id": "56c49134",
   "metadata": {},
   "outputs": [],
   "source": [
    "import numpy as np\n"
   ]
  },
  {
   "cell_type": "code",
   "execution_count": 2,
   "id": "d60d576b",
   "metadata": {},
   "outputs": [
    {
     "name": "stdout",
     "output_type": "stream",
     "text": [
      "100.0\n",
      "90.0\n",
      "75.6\n",
      "55.599999999999994\n",
      "70.0\n",
      "96.1038961038961\n",
      "19.35718533390827\n"
     ]
    }
   ],
   "source": [
    "calorie_stats = np.genfromtxt('cereal.csv', delimiter =',')\n",
    "\n",
    "average_calories = np.mean(calorie_stats)\n",
    "# print(average_calories)\n",
    "\n",
    "calorie_stats_sorted = np.sort(calorie_stats)\n",
    "# print(calorie_stats_sorted)\n",
    "\n",
    "median_calories = np.median(calorie_stats)\n",
    "# print(median_calories)\n",
    "\n",
    "print(np.percentile(calorie_stats, 25))\n",
    "print(np.percentile(calorie_stats, 12))\n",
    "print(np.percentile(calorie_stats, 6))\n",
    "print(np.percentile(calorie_stats, 3))\n",
    "print(np.percentile(calorie_stats, 4))\n",
    "nth_percentile = 4\n",
    "\n",
    "more_calories = np.mean(calorie_stats >60) *100\n",
    "calorie_std = np.std(calorie_stats)\n",
    "\n",
    "\n",
    "print(more_calories)\n",
    "print(calorie_std)"
   ]
  },
  {
   "cell_type": "code",
   "execution_count": null,
   "id": "63b69f6e",
   "metadata": {},
   "outputs": [],
   "source": []
  }
 ],
 "metadata": {
  "kernelspec": {
   "display_name": "Python 3",
   "language": "python",
   "name": "python3"
  },
  "language_info": {
   "codemirror_mode": {
    "name": "ipython",
    "version": 3
   },
   "file_extension": ".py",
   "mimetype": "text/x-python",
   "name": "python",
   "nbconvert_exporter": "python",
   "pygments_lexer": "ipython3",
   "version": "3.8.8"
  }
 },
 "nbformat": 4,
 "nbformat_minor": 5
}
